{
 "metadata": {
  "name": ""
 },
 "nbformat": 3,
 "nbformat_minor": 0,
 "worksheets": [
  {
   "cells": [
    {
     "cell_type": "code",
     "collapsed": false,
     "input": [
      "from sys import argv\n",
      "\n",
      "from numpy import genfromtxt, array\n",
      "\n",
      "from sklearn.preprocessing import StandardScaler\n",
      "\n",
      "# SVMs\n",
      "from sklearn.svm import SVC\n",
      "\n",
      "# KNNs\n",
      "from sklearn.neighbors import KNeighborsClassifier"
     ],
     "language": "python",
     "metadata": {},
     "outputs": [],
     "prompt_number": 1
    },
    {
     "cell_type": "code",
     "collapsed": false,
     "input": [
      "!wc -l *.csv"
     ],
     "language": "python",
     "metadata": {},
     "outputs": [
      {
       "output_type": "stream",
       "stream": "stdout",
       "text": [
        "  100000 forest_test.csv\r\n",
        "   40000 forest_train.csv\r\n",
        "   10000 forest_validation.csv\r\n",
        "  100001 solutions_100.000000.csv\r\n",
        "  100001 solutions_140.000000.csv\r\n"
       ]
      },
      {
       "output_type": "stream",
       "stream": "stdout",
       "text": [
        "  100001 solutions_340.000000.csv\r\n",
        "  100001 solutions_341.000000.csv\r\n",
        "  550004 total\r\n"
       ]
      }
     ],
     "prompt_number": 2
    },
    {
     "cell_type": "code",
     "collapsed": false,
     "input": [
      "!head -n 5 forest_test.csv"
     ],
     "language": "python",
     "metadata": {},
     "outputs": [
      {
       "output_type": "stream",
       "stream": "stdout",
       "text": [
        "2966,308,16,283,55,1873,176,229,193,949,0,0,0,0,0,0,0,0,0,0,0,0,0,0,0,0,0,0,0,0,0,0,0,0,0,0,0,0,0,1,0,0,0,0,0,0,0,0,0,0\r\n",
        "2756,190,10,85,10,2758,220,248,161,2003,0,0,0,0,0,0,0,0,0,0,0,1,0,0,0,0,0,0,0,0,0,0,0,0,0,0,0,0,0,0,0,0,0,0,0,0,0,0,0,0\r\n",
        "3054,284,11,607,63,5822,190,240,190,5167,0,0,0,0,0,0,0,0,0,0,0,0,0,0,0,0,0,0,0,0,0,0,0,0,0,0,0,0,1,0,0,0,0,0,0,0,0,0,0,0\r\n",
        "2668,6,9,576,33,600,210,223,151,1834,0,0,0,0,0,0,0,0,0,0,0,0,0,0,0,0,0,0,0,0,0,0,0,0,0,0,0,0,1,0,0,0,0,0,0,0,0,0,0,0\r\n",
        "2817,70,6,450,82,1786,227,228,135,2713,0,0,0,0,0,0,0,0,0,0,0,0,0,0,0,0,0,0,0,0,0,0,1,0,0,0,0,0,0,0,0,0,0,0,0,0,0,0,0,0\r\n"
       ]
      }
     ],
     "prompt_number": 3
    },
    {
     "cell_type": "code",
     "collapsed": false,
     "input": [
      "X_test = genfromtxt('forest_test.csv', delimiter=',')\n",
      "train_data = genfromtxt('forest_train.csv', delimiter=',')\n",
      "validation_data = genfromtxt('forest_validation.csv', delimiter=',')\n",
      "\n",
      "print 'Test %s;Training %s; Validation %s' % (X_test.shape, train_data.shape, \n",
      "                                              validation_data.shape)\n",
      "\n",
      "\n",
      "Y_train = train_data[:, -1]\n",
      "X_train = train_data[:, :-1]\n",
      "\n",
      "Y_validation = validation_data[:, -1]\n",
      "X_validation = validation_data[:, :-1]\n",
      "\n",
      "print 'X_train=%s,Y_train=%s; X_validation=%s,Y_validation=%s' % (\n",
      "    X_train.shape, Y_train.shape, X_validation.shape, Y_validation.shape)\n",
      "\n",
      "\n",
      "scaler = StandardScaler()\n",
      "scaler.fit(X_train)\n",
      "\n",
      "# scale the features\n",
      "X_train_scaled = array(scaler.transform(X_train), dtype=float)\n",
      "X_validation_scaled = array(scaler.transform(X_validation), dtype=float)\n",
      "\n",
      "X_test_scaled = scaler.transform(X_test)"
     ],
     "language": "python",
     "metadata": {},
     "outputs": [
      {
       "output_type": "stream",
       "stream": "stdout",
       "text": [
        "Test (100000, 50);Training (40000, 51); Validation (10000, 51)\n",
        "X_train=(40000, 50),Y_train=(40000,); X_validation=(10000, 50),Y_validation=(10000,)"
       ]
      },
      {
       "output_type": "stream",
       "stream": "stdout",
       "text": [
        "\n"
       ]
      }
     ],
     "prompt_number": 4
    },
    {
     "cell_type": "heading",
     "level": 1,
     "metadata": {},
     "source": [
      "Support Vector Machines"
     ]
    },
    {
     "cell_type": "code",
     "collapsed": false,
     "input": [
      "C = 100\n",
      "gamma = 30"
     ],
     "language": "python",
     "metadata": {},
     "outputs": [],
     "prompt_number": 5
    },
    {
     "cell_type": "code",
     "collapsed": false,
     "input": [
      "clf = SVC(C=C, cache_size=30000, class_weight=None, coef0=0.0, degree=3,\n",
      "          gamma=gamma, kernel='rbf', max_iter=-1, probability=False,\n",
      "          random_state=None, shrinking=True, tol=0.001, verbose=False)\n",
      "clf.fit(X_train_scaled, Y_train) \n",
      "\n",
      "# score of the model\n",
      "score = clf.score(X_validation_scaled, Y_validation)\n",
      "\n",
      "# let's keep track of the parameters we are using\n",
      "fd = open('results.txt','a')\n",
      "fd.write('The score is %f, C=%f, gamma=%f\\n' % (score, C, gamma))\n",
      "fd.close()\n",
      "\n",
      "# predict on the validation dataset\n",
      "predictions = clf.predict(X_test_scaled)\n",
      "\n",
      "# writting out the solutions file\n",
      "fd = open('solutions_%f_%f.csv' % (C,gamma), 'w')\n",
      "fd.write('Id,Prediction\\n')\n",
      "for index, prediction in enumerate(predictions):\n",
      "    # add one to the index because identifieres in kaggle start at 1\n",
      "    fd.write('%d,%d\\n' % (index+1, prediction))\n",
      "fd.close()"
     ],
     "language": "python",
     "metadata": {},
     "outputs": [],
     "prompt_number": "*"
    },
    {
     "cell_type": "heading",
     "level": 1,
     "metadata": {},
     "source": [
      "K Nearest Neighbors"
     ]
    },
    {
     "cell_type": "code",
     "collapsed": false,
     "input": [
      "results_distance = []\n",
      "results_uniform = []\n",
      "parameters = [(20, 'distance'),\n",
      "              (20, 'uniform'),\n",
      "              (30, 'distance'),\n",
      "              (30, 'uniform'),\n",
      "              (40, 'distance'),\n",
      "              (40, 'uniform'),\n",
      "              (50, 'distance'),\n",
      "              (50, 'uniform'),\n",
      "              (60, 'distance'),\n",
      "              (60, 'uniform'),\n",
      "              (70, 'distance'),\n",
      "              (70, 'uniform')]\n",
      "\n",
      "\n",
      "for element in parameters:\n",
      "    print element\n",
      "    if element[1] == 'distance':\n",
      "        model = KNeighborsClassifier(n_neighbors=element[0], weights=element[1])\n",
      "        model.fit(X_train_scaled, Y_train)\n",
      "        results_distance.append(model.score(X_validation_scaled, Y_validation))\n",
      "\n",
      "    else:\n",
      "        model = KNeighborsClassifier(n_neighbors=element[0], weights=element[1])\n",
      "        model.fit(X_train_scaled, Y_train)\n",
      "        results_uniform.append(model.score(X_validation_scaled, Y_validation))\n",
      "\n",
      "\n",
      "fd = open('knn_results.txt', 'w')\n",
      "fd.write('Distance %s\\n' % results_distance)\n",
      "fd.write('Uniform %s\\n' % resutls_uniform)\n",
      "fd.close()"
     ],
     "language": "python",
     "metadata": {},
     "outputs": [
      {
       "output_type": "stream",
       "stream": "stdout",
       "text": [
        "12\n"
       ]
      }
     ],
     "prompt_number": 17
    },
    {
     "cell_type": "heading",
     "level": 1,
     "metadata": {},
     "source": [
      "Logistic Regression"
     ]
    },
    {
     "cell_type": "markdown",
     "metadata": {},
     "source": [
      "The lower the tolerance "
     ]
    },
    {
     "cell_type": "code",
     "collapsed": false,
     "input": [
      "from sklearn.linear_model import LogisticRegression\n",
      "\n",
      "scores = []\n",
      "parameters = [(0.0125, 100),(0.125, 100),(1.25, 100),(12.5, 100),\n",
      "              (0.0125, 1),(0.125, 10),(1.25,20),(12.5, 500),\n",
      "              (0.4, 100),(12.5, 1000)]\n",
      "\n",
      "for element in parameters:\n",
      "    csi = LogisticRegression(penalty='l2', dual=False, tol=element[0], C=element[1])\n",
      "    csi.fit(X_train_scaled, Y_train)\n",
      "    scores.append(csi.score(X_validation_scaled, Y_validation))"
     ],
     "language": "python",
     "metadata": {},
     "outputs": [],
     "prompt_number": 22
    },
    {
     "cell_type": "markdown",
     "metadata": {},
     "source": [
      "| C value| tol |score|\n",
      "| ------------- |:-------------:| -----:|\n",
      "| 100 | 0.0125 | 0.7046 |\n",
      "| 100 | 0.125 | 0.7033 |\n",
      "| 100 | 1.25 | 0.6861 |\n",
      "| 100 | 12.5 | 0.40.96 |\n",
      "| 1 | 0.0125 | 0.7038 |\n",
      "| 10 | 0.125 | 0.7031 |\n",
      "| 20 | 1.25 | 0.6861 |\n",
      "| 500 | 12.5 | 0.4096 |\n",
      "| 100 | 0.4 | 0.6967 |\n",
      "| 1000 | 12.5 | 0.4096 |\n"
     ]
    },
    {
     "cell_type": "heading",
     "level": 1,
     "metadata": {},
     "source": [
      "Random Forests"
     ]
    },
    {
     "cell_type": "code",
     "collapsed": false,
     "input": [
      "from sklearn.ensemble import RandomForestClassifier\n",
      "\n",
      "scores = []\n",
      "parameters = [(element, 'entropy') for element in range(1,100)]\n",
      "parameters = [(25, 'entropy'),(20, 'entropy'),(15, 'entropy'),(10, 'entropy'),(8, 'entropy'),\n",
      "              (30, 'entropy'),(35, 'entropy'),(40, 'entropy'),(45, 'entropy'),(50, 'entropy'),\n",
      "              (25, 'gini'),(20, 'gini'),(15, 'gini'),(10, 'gini'),(8, 'gini'),\n",
      "              (30, 'gini'),(35, 'gini'),(40, 'gini'),(45, 'gini'),(50, 'gini')]\n",
      "\n",
      "\n",
      "for element in parameters:\n",
      "    cls = RandomForestClassifier(n_estimators=element[0], criterion=element[1],\n",
      "                                 max_features='sqrt', bootstrap=True, verbose=1, n_jobs=-1)\n",
      "    cls.fit(X_train_scaled, Y_train)\n",
      "    scores.append([element[0], element[1], cls.score(X_validation_scaled, Y_validation)])"
     ],
     "language": "python",
     "metadata": {},
     "outputs": [
      {
       "output_type": "stream",
       "stream": "stderr",
       "text": [
        "[Parallel(n_jobs=8)]: Done   1 out of   8 | elapsed:    2.5s remaining:   17.8s\n",
        "[Parallel(n_jobs=8)]: Done   8 out of   8 | elapsed:    2.5s finished\n"
       ]
      },
      {
       "output_type": "stream",
       "stream": "stderr",
       "text": [
        "[Parallel(n_jobs=8)]: Done   1 out of   8 | elapsed:    0.1s remaining:    0.6s\n",
        "[Parallel(n_jobs=8)]: Done   8 out of   8 | elapsed:    0.3s finished\n"
       ]
      },
      {
       "output_type": "stream",
       "stream": "stderr",
       "text": [
        "[Parallel(n_jobs=8)]: Done   1 out of   8 | elapsed:    1.8s remaining:   12.8s\n",
        "[Parallel(n_jobs=8)]: Done   8 out of   8 | elapsed:    1.9s finished\n"
       ]
      },
      {
       "output_type": "stream",
       "stream": "stderr",
       "text": [
        "[Parallel(n_jobs=8)]: Done   1 out of   8 | elapsed:    0.1s remaining:    0.5s\n",
        "[Parallel(n_jobs=8)]: Done   8 out of   8 | elapsed:    0.3s finished\n"
       ]
      },
      {
       "output_type": "stream",
       "stream": "stderr",
       "text": [
        "[Parallel(n_jobs=8)]: Done   1 out of   8 | elapsed:    1.5s remaining:   10.4s\n",
        "[Parallel(n_jobs=8)]: Done   8 out of   8 | elapsed:    1.5s finished\n"
       ]
      },
      {
       "output_type": "stream",
       "stream": "stderr",
       "text": [
        "[Parallel(n_jobs=8)]: Done   1 out of   8 | elapsed:    0.1s remaining:    0.5s\n",
        "[Parallel(n_jobs=8)]: Done   8 out of   8 | elapsed:    0.3s finished\n"
       ]
      },
      {
       "output_type": "stream",
       "stream": "stderr",
       "text": [
        "[Parallel(n_jobs=8)]: Done   1 out of   8 | elapsed:    1.3s remaining:    8.8s\n",
        "[Parallel(n_jobs=8)]: Done   8 out of   8 | elapsed:    1.3s finished\n"
       ]
      },
      {
       "output_type": "stream",
       "stream": "stderr",
       "text": [
        "[Parallel(n_jobs=8)]: Done   1 out of   8 | elapsed:    0.1s remaining:    0.4s\n",
        "[Parallel(n_jobs=8)]: Done   8 out of   8 | elapsed:    0.2s finished\n"
       ]
      },
      {
       "output_type": "stream",
       "stream": "stderr",
       "text": [
        "[Parallel(n_jobs=8)]: Done   1 out of   8 | elapsed:    0.8s remaining:    5.9s\n",
        "[Parallel(n_jobs=8)]: Done   8 out of   8 | elapsed:    1.1s finished\n"
       ]
      },
      {
       "output_type": "stream",
       "stream": "stderr",
       "text": [
        "[Parallel(n_jobs=8)]: Done   1 out of   8 | elapsed:    0.0s remaining:    0.2s\n",
        "[Parallel(n_jobs=8)]: Done   8 out of   8 | elapsed:    0.1s finished\n"
       ]
      },
      {
       "output_type": "stream",
       "stream": "stderr",
       "text": [
        "[Parallel(n_jobs=8)]: Done   1 out of   8 | elapsed:    3.0s remaining:   20.9s\n",
        "[Parallel(n_jobs=8)]: Done   8 out of   8 | elapsed:    3.0s finished\n"
       ]
      },
      {
       "output_type": "stream",
       "stream": "stderr",
       "text": [
        "[Parallel(n_jobs=8)]: Done   1 out of   8 | elapsed:    0.1s remaining:    0.9s\n",
        "[Parallel(n_jobs=8)]: Done   8 out of   8 | elapsed:    0.4s finished\n"
       ]
      },
      {
       "output_type": "stream",
       "stream": "stderr",
       "text": [
        "[Parallel(n_jobs=8)]: Done   1 out of   8 | elapsed:    3.3s remaining:   23.3s\n",
        "[Parallel(n_jobs=8)]: Done   8 out of   8 | elapsed:    3.5s finished\n"
       ]
      },
      {
       "output_type": "stream",
       "stream": "stderr",
       "text": [
        "[Parallel(n_jobs=8)]: Done   1 out of   8 | elapsed:    0.1s remaining:    0.7s\n",
        "[Parallel(n_jobs=8)]: Done   8 out of   8 | elapsed:    0.4s finished\n"
       ]
      },
      {
       "output_type": "stream",
       "stream": "stderr",
       "text": [
        "[Parallel(n_jobs=8)]: Done   1 out of   8 | elapsed:    3.7s remaining:   25.7s\n",
        "[Parallel(n_jobs=8)]: Done   8 out of   8 | elapsed:    3.7s finished\n"
       ]
      },
      {
       "output_type": "stream",
       "stream": "stderr",
       "text": [
        "[Parallel(n_jobs=8)]: Done   1 out of   8 | elapsed:    0.1s remaining:    0.7s\n",
        "[Parallel(n_jobs=8)]: Done   8 out of   8 | elapsed:    0.5s finished\n"
       ]
      },
      {
       "output_type": "stream",
       "stream": "stderr",
       "text": [
        "[Parallel(n_jobs=8)]: Done   1 out of   8 | elapsed:    4.2s remaining:   29.6s\n",
        "[Parallel(n_jobs=8)]: Done   8 out of   8 | elapsed:    4.5s finished\n"
       ]
      },
      {
       "output_type": "stream",
       "stream": "stderr",
       "text": [
        "[Parallel(n_jobs=8)]: Done   1 out of   8 | elapsed:    0.1s remaining:    0.9s\n",
        "[Parallel(n_jobs=8)]: Done   8 out of   8 | elapsed:    0.5s finished\n"
       ]
      },
      {
       "output_type": "stream",
       "stream": "stderr",
       "text": [
        "[Parallel(n_jobs=8)]: Done   1 out of   8 | elapsed:    4.8s remaining:   33.8s\n",
        "[Parallel(n_jobs=8)]: Done   8 out of   8 | elapsed:    4.8s finished\n"
       ]
      },
      {
       "output_type": "stream",
       "stream": "stderr",
       "text": [
        "[Parallel(n_jobs=8)]: Done   1 out of   8 | elapsed:    0.1s remaining:    0.9s\n",
        "[Parallel(n_jobs=8)]: Done   8 out of   8 | elapsed:    0.6s finished\n"
       ]
      },
      {
       "output_type": "stream",
       "stream": "stderr",
       "text": [
        "[Parallel(n_jobs=8)]: Done   1 out of   8 | elapsed:    2.5s remaining:   17.7s\n",
        "[Parallel(n_jobs=8)]: Done   8 out of   8 | elapsed:    2.5s finished\n"
       ]
      },
      {
       "output_type": "stream",
       "stream": "stderr",
       "text": [
        "[Parallel(n_jobs=8)]: Done   1 out of   8 | elapsed:    0.1s remaining:    0.6s\n",
        "[Parallel(n_jobs=8)]: Done   8 out of   8 | elapsed:    0.3s finished\n"
       ]
      },
      {
       "output_type": "stream",
       "stream": "stderr",
       "text": [
        "[Parallel(n_jobs=8)]: Done   1 out of   8 | elapsed:    2.0s remaining:   13.9s\n",
        "[Parallel(n_jobs=8)]: Done   8 out of   8 | elapsed:    2.1s finished\n"
       ]
      },
      {
       "output_type": "stream",
       "stream": "stderr",
       "text": [
        "[Parallel(n_jobs=8)]: Done   1 out of   8 | elapsed:    0.1s remaining:    0.5s\n",
        "[Parallel(n_jobs=8)]: Done   8 out of   8 | elapsed:    0.3s finished\n"
       ]
      },
      {
       "output_type": "stream",
       "stream": "stderr",
       "text": [
        "[Parallel(n_jobs=8)]: Done   1 out of   8 | elapsed:    1.5s remaining:   10.6s\n",
        "[Parallel(n_jobs=8)]: Done   8 out of   8 | elapsed:    1.6s finished\n"
       ]
      },
      {
       "output_type": "stream",
       "stream": "stderr",
       "text": [
        "[Parallel(n_jobs=8)]: Done   1 out of   8 | elapsed:    0.1s remaining:    0.4s\n",
        "[Parallel(n_jobs=8)]: Done   8 out of   8 | elapsed:    0.2s finished\n"
       ]
      },
      {
       "output_type": "stream",
       "stream": "stderr",
       "text": [
        "[Parallel(n_jobs=8)]: Done   1 out of   8 | elapsed:    1.2s remaining:    8.2s\n",
        "[Parallel(n_jobs=8)]: Done   8 out of   8 | elapsed:    1.2s finished\n"
       ]
      },
      {
       "output_type": "stream",
       "stream": "stderr",
       "text": [
        "[Parallel(n_jobs=8)]: Done   1 out of   8 | elapsed:    0.1s remaining:    0.4s\n",
        "[Parallel(n_jobs=8)]: Done   8 out of   8 | elapsed:    0.2s finished\n"
       ]
      },
      {
       "output_type": "stream",
       "stream": "stderr",
       "text": [
        "[Parallel(n_jobs=8)]: Done   1 out of   8 | elapsed:    0.7s remaining:    4.9s\n",
        "[Parallel(n_jobs=8)]: Done   8 out of   8 | elapsed:    0.9s finished\n"
       ]
      },
      {
       "output_type": "stream",
       "stream": "stderr",
       "text": [
        "[Parallel(n_jobs=8)]: Done   1 out of   8 | elapsed:    0.0s remaining:    0.2s\n",
        "[Parallel(n_jobs=8)]: Done   8 out of   8 | elapsed:    0.1s finished\n"
       ]
      },
      {
       "output_type": "stream",
       "stream": "stderr",
       "text": [
        "[Parallel(n_jobs=8)]: Done   1 out of   8 | elapsed:    2.6s remaining:   18.0s\n",
        "[Parallel(n_jobs=8)]: Done   8 out of   8 | elapsed:    2.8s finished\n"
       ]
      },
      {
       "output_type": "stream",
       "stream": "stderr",
       "text": [
        "[Parallel(n_jobs=8)]: Done   1 out of   8 | elapsed:    0.1s remaining:    0.6s\n",
        "[Parallel(n_jobs=8)]: Done   8 out of   8 | elapsed:    0.4s finished\n"
       ]
      },
      {
       "output_type": "stream",
       "stream": "stderr",
       "text": [
        "[Parallel(n_jobs=8)]: Done   1 out of   8 | elapsed:    3.3s remaining:   22.8s\n",
        "[Parallel(n_jobs=8)]: Done   8 out of   8 | elapsed:    3.3s finished\n"
       ]
      },
      {
       "output_type": "stream",
       "stream": "stderr",
       "text": [
        "[Parallel(n_jobs=8)]: Done   1 out of   8 | elapsed:    0.1s remaining:    0.8s\n",
        "[Parallel(n_jobs=8)]: Done   8 out of   8 | elapsed:    0.4s finished\n"
       ]
      },
      {
       "output_type": "stream",
       "stream": "stderr",
       "text": [
        "[Parallel(n_jobs=8)]: Done   1 out of   8 | elapsed:    3.4s remaining:   23.6s\n",
        "[Parallel(n_jobs=8)]: Done   8 out of   8 | elapsed:    3.7s finished\n"
       ]
      },
      {
       "output_type": "stream",
       "stream": "stderr",
       "text": [
        "[Parallel(n_jobs=8)]: Done   1 out of   8 | elapsed:    0.1s remaining:    0.8s\n",
        "[Parallel(n_jobs=8)]: Done   8 out of   8 | elapsed:    0.5s finished\n"
       ]
      },
      {
       "output_type": "stream",
       "stream": "stderr",
       "text": [
        "[Parallel(n_jobs=8)]: Done   1 out of   8 | elapsed:    4.1s remaining:   28.9s\n",
        "[Parallel(n_jobs=8)]: Done   8 out of   8 | elapsed:    4.4s finished\n"
       ]
      },
      {
       "output_type": "stream",
       "stream": "stderr",
       "text": [
        "[Parallel(n_jobs=8)]: Done   1 out of   8 | elapsed:    0.1s remaining:    0.9s\n",
        "[Parallel(n_jobs=8)]: Done   8 out of   8 | elapsed:    0.5s finished\n"
       ]
      },
      {
       "output_type": "stream",
       "stream": "stderr",
       "text": [
        "[Parallel(n_jobs=8)]: Done   1 out of   8 | elapsed:    4.8s remaining:   33.9s\n",
        "[Parallel(n_jobs=8)]: Done   8 out of   8 | elapsed:    4.8s finished\n"
       ]
      },
      {
       "output_type": "stream",
       "stream": "stderr",
       "text": [
        "[Parallel(n_jobs=8)]: Done   1 out of   8 | elapsed:    0.1s remaining:    1.0s\n",
        "[Parallel(n_jobs=8)]: Done   8 out of   8 | elapsed:    0.6s finished\n"
       ]
      }
     ],
     "prompt_number": 38
    },
    {
     "cell_type": "code",
     "collapsed": false,
     "input": [
      "sorted_scores = sorted(scores, key=lambda x: x[2], reverse=True)"
     ],
     "language": "python",
     "metadata": {},
     "outputs": [],
     "prompt_number": 40
    },
    {
     "cell_type": "code",
     "collapsed": false,
     "input": [
      "cls = RandomForestClassifier(n_estimators=sorted_scores[0][0], criterion='entropy',\n",
      "                             max_features='sqrt', bootstrap=True, verbose=1, n_jobs=-1)\n",
      "cls.fit(X_train_scaled, Y_train)\n",
      "score = cls.score(X_validation_scaled, Y_validation)\n",
      "\n",
      "predictions = cls.predict(X_test_scaled) \n",
      "\n",
      "# writting out the solutions file                                               \n",
      "fd = open('solutions_random_forests.csv', 'w')                               \n",
      "fd.write('Id,Prediction\\n')                                                     \n",
      "for index, prediction in enumerate(predictions):                                \n",
      "    # add one to the index because identifieres in kaggle start at 1            \n",
      "    fd.write('%d,%d\\n' % (index+1, prediction))                                 \n",
      "fd.close()   "
     ],
     "language": "python",
     "metadata": {},
     "outputs": [
      {
       "output_type": "stream",
       "stream": "stderr",
       "text": [
        "[Parallel(n_jobs=8)]: Done   1 out of   8 | elapsed:    3.5s remaining:   24.4s\n",
        "[Parallel(n_jobs=8)]: Done   8 out of   8 | elapsed:    3.6s finished\n"
       ]
      },
      {
       "output_type": "stream",
       "stream": "stderr",
       "text": [
        "[Parallel(n_jobs=8)]: Done   1 out of   8 | elapsed:    0.1s remaining:    0.8s\n",
        "[Parallel(n_jobs=8)]: Done   8 out of   8 | elapsed:    0.5s finished\n"
       ]
      },
      {
       "output_type": "stream",
       "stream": "stderr",
       "text": [
        "[Parallel(n_jobs=8)]: Done   1 out of   8 | elapsed:    0.4s remaining:    2.6s\n",
        "[Parallel(n_jobs=8)]: Done   8 out of   8 | elapsed:    1.3s finished\n"
       ]
      }
     ],
     "prompt_number": 43
    },
    {
     "cell_type": "code",
     "collapsed": false,
     "input": [
      "score"
     ],
     "language": "python",
     "metadata": {},
     "outputs": [
      {
       "metadata": {},
       "output_type": "pyout",
       "prompt_number": 44,
       "text": [
        "0.86780000000000002"
       ]
      }
     ],
     "prompt_number": 44
    },
    {
     "cell_type": "heading",
     "level": 1,
     "metadata": {},
     "source": [
      "Na\u00efve Bayes"
     ]
    },
    {
     "cell_type": "markdown",
     "metadata": {},
     "source": [
      "This method doesn't work very well, not at all"
     ]
    },
    {
     "cell_type": "code",
     "collapsed": false,
     "input": [
      "from sklearn.naive_bayes import GaussianNB\n",
      "\n",
      "clsf = GaussianNB()\n",
      "clsf.fit(X_train_scaled, Y_train)\n",
      "print clsf.score(X_validation_scaled, Y_validation)"
     ],
     "language": "python",
     "metadata": {},
     "outputs": [
      {
       "output_type": "stream",
       "stream": "stdout",
       "text": [
        "0.0863\n"
       ]
      }
     ],
     "prompt_number": 48
    }
   ],
   "metadata": {}
  }
 ]
}