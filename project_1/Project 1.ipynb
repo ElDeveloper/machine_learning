{
 "metadata": {
  "name": ""
 },
 "nbformat": 3,
 "nbformat_minor": 0,
 "worksheets": [
  {
   "cells": [
    {
     "cell_type": "code",
     "collapsed": false,
     "input": [
      "from sys import argv\n",
      "\n",
      "from IPython.core.display import HTML\n",
      "from numpy import genfromtxt, array, bincount\n",
      "from sklearn.svm import SVC\n",
      "from sklearn.naive_bayes import GaussianNB\n",
      "from sklearn.metrics import confusion_matrix\n",
      "from sklearn.preprocessing import StandardScaler\n",
      "from sklearn.neighbors import KNeighborsClassifier\n",
      "from sklearn.ensemble import RandomForestClassifier\n",
      "from sklearn.linear_model import LogisticRegression\n",
      "from sklearn.cross_validation import train_test_split\n",
      "from matplotlib.pylab import matshow, title, colorbar, ylabel, xlabel, show, figure, gcf, gca"
     ],
     "language": "python",
     "metadata": {},
     "outputs": [],
     "prompt_number": 178
    },
    {
     "cell_type": "heading",
     "level": 3,
     "metadata": {},
     "source": [
      "Set up some utility functions that will make the processing nicer"
     ]
    },
    {
     "cell_type": "code",
     "collapsed": false,
     "input": [
      "# utility function to write out the predictions\n",
      "def write_predictions(filename, predictions):\n",
      "    fd = open(filename, 'w')\n",
      "    fd.write('Id,Prediction\\n')\n",
      "    for index, prediction in enumerate(predictions):\n",
      "        # add one to the index because identifieres in kaggle start at 1\n",
      "        fd.write('%d,%d\\n' % (index+1, prediction))\n",
      "    fd.close()\n",
      "    \n",
      "    print filename"
     ],
     "language": "python",
     "metadata": {},
     "outputs": [],
     "prompt_number": 45
    },
    {
     "cell_type": "code",
     "collapsed": false,
     "input": [
      "def print_confusion_matrix(y_real, y_predicted, labels):\n",
      "    # make sure you have a float type in here so you can divide the numbers\n",
      "    cm = array(confusion_matrix(y_real, y_predicted), dtype='float64')\n",
      "    p = bincount(array(Y_validation, dtype='int64'))[1:]\n",
      "    \n",
      "    matshow(cm/p)\n",
      "    \n",
      "    fig = gcf()\n",
      "    fig.set_size_inches(12.5,12.5)    \n",
      "\n",
      "    ax = gca()\n",
      "    ax.set_xticklabels([''] + labels)\n",
      "    ax.set_yticklabels([''] + labels)\n",
      "    \n",
      "    colorbar()\n",
      "    \n",
      "    title('Confusion matrix')\n",
      "    ylabel('True label')\n",
      "    xlabel('Predicted label')\n",
      "    \n",
      "    show()"
     ],
     "language": "python",
     "metadata": {},
     "outputs": [],
     "prompt_number": 133
    },
    {
     "cell_type": "code",
     "collapsed": false,
     "input": [
      "def display_table(elements, headers=None):\n",
      "    \"\"\"write an HTML formatted string with the contents of such table\"\"\"\n",
      "\n",
      "    output_string = '<table border=\"1\">'\n",
      "    \n",
      "    if headers is not None:\n",
      "        row = '<tr>%s</tr>' % ''.join(['<th>%s</th>' % t for t in headers])\n",
      "        output_string += row\n",
      "\n",
      "    for element in elements:\n",
      "        row = '<tr>%s</tr>' % ''.join(['<td nowrap>%s</td>' % str(t) for t in element])\n",
      "        output_string += row\n",
      "    output_string += '</table>'\n",
      "    \n",
      "    # display it within the IPython notebook usin the HTML function\n",
      "    return output_string"
     ],
     "language": "python",
     "metadata": {},
     "outputs": [],
     "prompt_number": 151
    },
    {
     "cell_type": "heading",
     "level": 1,
     "metadata": {},
     "source": [
      "Explore at the data in a naive way"
     ]
    },
    {
     "cell_type": "code",
     "collapsed": false,
     "input": [
      "!wc -l *.csv"
     ],
     "language": "python",
     "metadata": {},
     "outputs": [
      {
       "output_type": "stream",
       "stream": "stdout",
       "text": [
        "  100000 forest_test.csv\r\n",
        "   40000 forest_train.csv\r\n",
        "   10000 forest_validation.csv\r\n"
       ]
      },
      {
       "output_type": "stream",
       "stream": "stdout",
       "text": [
        "  100001 solutions_100.000000.csv\r\n",
        "  100001 solutions_140.000000.csv\r\n",
        "  100001 solutions_340.000000.csv\r\n",
        "  100001 solutions_341.000000.csv\r\n",
        "  100001 solutions_random_forests.csv\r\n",
        "  650005 total\r\n"
       ]
      }
     ],
     "prompt_number": 3
    },
    {
     "cell_type": "code",
     "collapsed": false,
     "input": [
      "!head -n 5 forest_test.csv"
     ],
     "language": "python",
     "metadata": {},
     "outputs": [
      {
       "output_type": "stream",
       "stream": "stdout",
       "text": [
        "2966,308,16,283,55,1873,176,229,193,949,0,0,0,0,0,0,0,0,0,0,0,0,0,0,0,0,0,0,0,0,0,0,0,0,0,0,0,0,0,1,0,0,0,0,0,0,0,0,0,0\r\n",
        "2756,190,10,85,10,2758,220,248,161,2003,0,0,0,0,0,0,0,0,0,0,0,1,0,0,0,0,0,0,0,0,0,0,0,0,0,0,0,0,0,0,0,0,0,0,0,0,0,0,0,0\r\n",
        "3054,284,11,607,63,5822,190,240,190,5167,0,0,0,0,0,0,0,0,0,0,0,0,0,0,0,0,0,0,0,0,0,0,0,0,0,0,0,0,1,0,0,0,0,0,0,0,0,0,0,0\r\n",
        "2668,6,9,576,33,600,210,223,151,1834,0,0,0,0,0,0,0,0,0,0,0,0,0,0,0,0,0,0,0,0,0,0,0,0,0,0,0,0,1,0,0,0,0,0,0,0,0,0,0,0\r\n",
        "2817,70,6,450,82,1786,227,228,135,2713,0,0,0,0,0,0,0,0,0,0,0,0,0,0,0,0,0,0,0,0,0,0,1,0,0,0,0,0,0,0,0,0,0,0,0,0,0,0,0,0\r\n"
       ]
      }
     ],
     "prompt_number": 4
    },
    {
     "cell_type": "heading",
     "level": 1,
     "metadata": {},
     "source": [
      "Load the data"
     ]
    },
    {
     "cell_type": "markdown",
     "metadata": {},
     "source": [
      "All of the data will be loaded into the following variables:\n",
      "\n",
      "- `X_train` for the training dataset and will be scaled into `X_train_scaled`\n",
      "- `Y_train` for the labels of the training dataset.\n",
      "- `X_validation` for the validation dataset and will be scaled into `X_validation_scaled`\n",
      "- `Y_validation` for the labels of the validation dataset.\n",
      "- `X_test` for the test data that we will use to submit the scores to Kaggle."
     ]
    },
    {
     "cell_type": "code",
     "collapsed": false,
     "input": [
      "X_test = genfromtxt('forest_test.csv', delimiter=',')\n",
      "train_data = genfromtxt('forest_train.csv', delimiter=',')\n",
      "validation_data = genfromtxt('forest_validation.csv', delimiter=',')\n",
      "\n",
      "print 'Test %s;Training %s; Validation %s' % (X_test.shape, train_data.shape, \n",
      "                                              validation_data.shape)\n",
      "\n",
      "\n",
      "Y_train = train_data[:, -1]\n",
      "X_train = train_data[:, :-1]\n",
      "\n",
      "Y_validation = validation_data[:, -1]\n",
      "X_validation = validation_data[:, :-1]\n",
      "\n",
      "print 'X_train=%s,Y_train=%s; X_validation=%s,Y_validation=%s' % (\n",
      "    X_train.shape, Y_train.shape, X_validation.shape, Y_validation.shape)\n",
      "\n",
      "\n",
      "scaler = StandardScaler()\n",
      "scaler.fit(X_train)\n",
      "\n",
      "# scale the features\n",
      "X_train_scaled = array(scaler.transform(X_train), dtype=float)\n",
      "X_validation_scaled = array(scaler.transform(X_validation), dtype=float)\n",
      "\n",
      "X_test_scaled = scaler.transform(X_test)"
     ],
     "language": "python",
     "metadata": {},
     "outputs": []
    },
    {
     "cell_type": "heading",
     "level": 1,
     "metadata": {},
     "source": [
      "Support Vector Machines"
     ]
    },
    {
     "cell_type": "markdown",
     "metadata": {},
     "source": [
      "The most important thing to remember about this method is that its complexity is O(n^2) which makes it pretty slow. Additionally not having scaled data make the classifier perform really bad. I ran all of the tests that I did for this classifier in a separate machine as it takes quite a while to be executed. Hence I'm just listing the values below."
     ]
    },
    {
     "cell_type": "code",
     "collapsed": false,
     "input": [
      "C = 340\n",
      "gamma = 0.1"
     ],
     "language": "python",
     "metadata": {},
     "outputs": [],
     "prompt_number": 40
    },
    {
     "cell_type": "code",
     "collapsed": false,
     "input": [
      "clf_svm = SVC(C=C, cache_size=30000, class_weight=None, coef0=0.0, degree=3,\n",
      "          gamma=gamma, kernel='rbf', max_iter=-1, probability=False,\n",
      "          random_state=None, shrinking=True, tol=0.001, verbose=False)\n",
      "clf_svm.fit(X_train_scaled, Y_train) \n",
      "\n",
      "# score of the model\n",
      "score = clf_svm.score(X_validation_scaled, Y_validation)\n",
      "print score\n",
      "\n",
      "# predict on the validation dataset\n",
      "predictions = clf_svm.predict(X_test_scaled)"
     ],
     "language": "python",
     "metadata": {},
     "outputs": [],
     "prompt_number": 41
    },
    {
     "cell_type": "code",
     "collapsed": false,
     "input": [
      "write_predictions('solutions_svm.csv' % (C,gamma), predictions)"
     ],
     "language": "python",
     "metadata": {},
     "outputs": [
      {
       "output_type": "stream",
       "stream": "stdout",
       "text": [
        "solutions_340.000000_0.100000.csv\n"
       ]
      }
     ],
     "prompt_number": 46
    },
    {
     "cell_type": "code",
     "collapsed": false,
     "input": [
      "cm_Y_predicted = clf_svm.predict(X_validation_scaled)\n",
      "print_confusion_matrix(Y_validation, cm_Y_predicted, ['1', '2', '3', '4', '5', '6', '7'])"
     ],
     "language": "python",
     "metadata": {},
     "outputs": [
      {
       "metadata": {},
       "output_type": "display_data",
       "png": "[encoded data removed]",
       "text": [
        "<matplotlib.figure.Figure at 0x1021355d0>"
       ]
      }
     ],
     "prompt_number": 134
    },
    {
     "cell_type": "heading",
     "level": 1,
     "metadata": {},
     "source": [
      "K Nearest Neighbors"
     ]
    },
    {
     "cell_type": "code",
     "collapsed": false,
     "input": [
      "knn_results = []\n",
      "parameters = [(20, 'distance'),\n",
      "              (20, 'uniform'),\n",
      "              (30, 'distance'),\n",
      "              (30, 'uniform'),\n",
      "              (40, 'distance'),\n",
      "              (40, 'uniform'),\n",
      "              (50, 'distance'),\n",
      "              (50, 'uniform'),\n",
      "              (60, 'distance'),\n",
      "              (60, 'uniform'),\n",
      "              (70, 'distance'),\n",
      "              (70, 'uniform')]\n",
      "\n",
      "\n",
      "for element in parameters:\n",
      "    clf_knn = KNeighborsClassifier(n_neighbors=element[0], weights=element[1])\n",
      "    clf_knn.fit(X_train_scaled, Y_train)\n",
      "    score = clf_knn.score(X_validation_scaled, Y_validation)\n",
      "    \n",
      "    knn_results.append((element[0], element[1], score))"
     ],
     "language": "python",
     "metadata": {},
     "outputs": [],
     "prompt_number": 139
    },
    {
     "cell_type": "code",
     "collapsed": false,
     "input": [
      "knn_results = sorted(knn_results, key=lambda x:x[2], reverse=True)"
     ],
     "language": "python",
     "metadata": {},
     "outputs": [],
     "prompt_number": 147
    },
    {
     "cell_type": "code",
     "collapsed": false,
     "input": [
      "HTML(display_table(knn_results, ['Number of Neighbors', 'Weight', 'Score']))"
     ],
     "language": "python",
     "metadata": {},
     "outputs": [
      {
       "html": [
        "<table border=\"1\"><tr><th>Number of Neighbors</th><th>Weight</th><th>Score</th></tr><tr><td nowrap>20</td><td nowrap>distance</td><td nowrap>0.8039</td></tr><tr><td nowrap>30</td><td nowrap>distance</td><td nowrap>0.792</td></tr><tr><td nowrap>40</td><td nowrap>distance</td><td nowrap>0.7806</td></tr><tr><td nowrap>20</td><td nowrap>uniform</td><td nowrap>0.7761</td></tr><tr><td nowrap>50</td><td nowrap>distance</td><td nowrap>0.7723</td></tr><tr><td nowrap>60</td><td nowrap>distance</td><td nowrap>0.766</td></tr><tr><td nowrap>30</td><td nowrap>uniform</td><td nowrap>0.7633</td></tr><tr><td nowrap>70</td><td nowrap>distance</td><td nowrap>0.7626</td></tr><tr><td nowrap>40</td><td nowrap>uniform</td><td nowrap>0.7495</td></tr><tr><td nowrap>50</td><td nowrap>uniform</td><td nowrap>0.7432</td></tr><tr><td nowrap>60</td><td nowrap>uniform</td><td nowrap>0.7348</td></tr><tr><td nowrap>70</td><td nowrap>uniform</td><td nowrap>0.7279</td></tr></table>"
       ],
       "metadata": {},
       "output_type": "pyout",
       "prompt_number": 154,
       "text": [
        "<IPython.core.display.HTML at 0x10b3eea10>"
       ]
      }
     ],
     "prompt_number": 154
    },
    {
     "cell_type": "code",
     "collapsed": false,
     "input": [
      "clf_knn = KNeighborsClassifier(n_neighbors=knn_results[0][0], weights=knn_results[0][1])\n",
      "clf_knn.fit(X_train_scaled, Y_train)\n",
      "knn_score = clf_knn.score(X_validation_scaled, Y_validation)\n",
      "\n",
      "knn_predictions = clf_knn.predict(X_test_scaled)"
     ],
     "language": "python",
     "metadata": {},
     "outputs": [],
     "prompt_number": 155
    },
    {
     "cell_type": "code",
     "collapsed": false,
     "input": [
      "write_predictions('solutions_knn.csv', knn_predictions)"
     ],
     "language": "python",
     "metadata": {},
     "outputs": [
      {
       "output_type": "stream",
       "stream": "stdout",
       "text": [
        "solutions_knn.csv\n"
       ]
      }
     ],
     "prompt_number": 156
    },
    {
     "cell_type": "code",
     "collapsed": false,
     "input": [
      "cm_Y_predicted = clf_knn.predict(X_validation_scaled)\n",
      "print_confusion_matrix(Y_validation, cm_Y_predicted, ['1', '2', '3', '4', '5', '6', '7'])"
     ],
     "language": "python",
     "metadata": {},
     "outputs": [
      {
       "metadata": {},
       "output_type": "display_data",
       "png": "[encoded data removed]",
       "text": [
        "<matplotlib.figure.Figure at 0x10bbb9290>"
       ]
      }
     ],
     "prompt_number": 157
    },
    {
     "cell_type": "heading",
     "level": 1,
     "metadata": {},
     "source": [
      "Logistic Regression"
     ]
    },
    {
     "cell_type": "markdown",
     "metadata": {},
     "source": [
      "The lower the tolerance "
     ]
    },
    {
     "cell_type": "code",
     "collapsed": false,
     "input": [
      "lr_scores = []\n",
      "parameters = [(0.0125, 100),(0.125, 100),(1.25, 100),(12.5, 100),\n",
      "              (0.0125, 1),(0.125, 10),(1.25,20),(12.5, 500),\n",
      "              (0.4, 100),(12.5, 1000)]\n",
      "\n",
      "for element in parameters:\n",
      "    clf_lr = LogisticRegression(penalty='l2', dual=False, tol=element[0], C=element[1])\n",
      "    clf_lr.fit(X_train_scaled, Y_train)\n",
      "    score = clf_lr.score(X_validation_scaled, Y_validation)\n",
      "    \n",
      "    lr_scores.append([element[0], element[1], score])"
     ],
     "language": "python",
     "metadata": {},
     "outputs": [],
     "prompt_number": 160
    },
    {
     "cell_type": "code",
     "collapsed": false,
     "input": [
      "lr_results = sorted(lr_scores, key=lambda x:x[2], reverse=True)"
     ],
     "language": "python",
     "metadata": {},
     "outputs": [],
     "prompt_number": 161
    },
    {
     "cell_type": "code",
     "collapsed": false,
     "input": [
      "HTML(display_table(lr_results, ['Tolerance', 'C value', 'Score']))"
     ],
     "language": "python",
     "metadata": {},
     "outputs": [
      {
       "html": [
        "<table border=\"1\"><tr><th>Tolerance</th><th>C value</th><th>Score</th></tr><tr><td nowrap>0.0125</td><td nowrap>100</td><td nowrap>0.7046</td></tr><tr><td nowrap>0.0125</td><td nowrap>1</td><td nowrap>0.7038</td></tr><tr><td nowrap>0.125</td><td nowrap>100</td><td nowrap>0.7032</td></tr><tr><td nowrap>0.125</td><td nowrap>10</td><td nowrap>0.7031</td></tr><tr><td nowrap>0.4</td><td nowrap>100</td><td nowrap>0.6967</td></tr><tr><td nowrap>1.25</td><td nowrap>100</td><td nowrap>0.6861</td></tr><tr><td nowrap>1.25</td><td nowrap>20</td><td nowrap>0.6861</td></tr><tr><td nowrap>12.5</td><td nowrap>100</td><td nowrap>0.4096</td></tr><tr><td nowrap>12.5</td><td nowrap>500</td><td nowrap>0.4096</td></tr><tr><td nowrap>12.5</td><td nowrap>1000</td><td nowrap>0.4096</td></tr></table>"
       ],
       "metadata": {},
       "output_type": "pyout",
       "prompt_number": 162,
       "text": [
        "<IPython.core.display.HTML at 0x10b5bd550>"
       ]
      }
     ],
     "prompt_number": 162
    },
    {
     "cell_type": "code",
     "collapsed": false,
     "input": [
      "clf_lr = LogisticRegression(penalty='l2', dual=False, tol=lr_results[0][0], C=lr_results[0][1])\n",
      "clf_lr.fit(X_train_scaled, Y_train)\n",
      "score = clf_lr.score(X_validation_scaled, Y_validation)\n",
      "\n",
      "lr_predictions = clf.predict(X_test_scaled)"
     ],
     "language": "python",
     "metadata": {},
     "outputs": [],
     "prompt_number": 163
    },
    {
     "cell_type": "code",
     "collapsed": false,
     "input": [
      "write_predictions('solutions_lr.csv', lr_predictions)"
     ],
     "language": "python",
     "metadata": {},
     "outputs": [
      {
       "output_type": "stream",
       "stream": "stdout",
       "text": [
        "solutions_lr.csv\n"
       ]
      }
     ],
     "prompt_number": 164
    },
    {
     "cell_type": "code",
     "collapsed": false,
     "input": [
      "cm_Y_predicted = clf_lr.predict(X_validation_scaled)\n",
      "print_confusion_matrix(Y_validation, cm_Y_predicted, ['1', '2', '3', '4', '5', '6', '7'])"
     ],
     "language": "python",
     "metadata": {},
     "outputs": [
      {
       "metadata": {},
       "output_type": "display_data",
       "png": "[encoded data removed]",
       "text": [
        "<matplotlib.figure.Figure at 0x10b5bd610>"
       ]
      }
     ],
     "prompt_number": 165
    },
    {
     "cell_type": "heading",
     "level": 1,
     "metadata": {},
     "source": [
      "Random Forests"
     ]
    },
    {
     "cell_type": "code",
     "collapsed": false,
     "input": [
      "rf_scores = []\n",
      "parameters = []\n",
      "\n",
      "for thesplit in range(1,30, 5):\n",
      "    for mfeatures in range(1,30, 5):\n",
      "        parameters += [(element, 'entropy', mfeatures, thesplit) for element in range(1,30, 5)]\n",
      "\n",
      "print len(parameters)\n",
      "\n",
      "# this is going to take a while\n",
      "for element in parameters:\n",
      "    # do not pass the verbose flag, when using this in the notebook\n",
      "    clf_rf = RandomForestClassifier(n_estimators=element[0], criterion=element[1],\n",
      "                                    max_features=element[2], bootstrap=True, n_jobs=-1,\n",
      "                                    min_samples_split=element[3])\n",
      "    clf_rf.fit(X_train_scaled, Y_train)\n",
      "    score = clf_rf.score(X_validation_scaled, Y_validation)\n",
      "\n",
      "    rf_scores.append([element[0], element[1], element[2], element[3], score])"
     ],
     "language": "python",
     "metadata": {},
     "outputs": [
      {
       "output_type": "stream",
       "stream": "stdout",
       "text": [
        "216\n"
       ]
      }
     ],
     "prompt_number": 186
    },
    {
     "cell_type": "code",
     "collapsed": false,
     "input": [
      "rf_scores = sorted(rf_scores, key=lambda x: x[4], reverse=True)"
     ],
     "language": "python",
     "metadata": {},
     "outputs": [],
     "prompt_number": 188
    },
    {
     "cell_type": "code",
     "collapsed": false,
     "input": [
      "HTML(display_table(rf_scores[0:15], ['Estimators', 'Criterion', 'Max Features',\n",
      "                               'Min Samples', 'Score']))"
     ],
     "language": "python",
     "metadata": {},
     "outputs": [
      {
       "html": [
        "<table border=\"1\"><tr><th>Estimators</th><th>Criterion</th><th>Max Features</th><th>Min Samples</th><th>Score</th></tr><tr><td nowrap>26</td><td nowrap>entropy</td><td nowrap>21</td><td nowrap>1</td><td nowrap>0.8843</td></tr><tr><td nowrap>26</td><td nowrap>entropy</td><td nowrap>26</td><td nowrap>1</td><td nowrap>0.8807</td></tr><tr><td nowrap>21</td><td nowrap>entropy</td><td nowrap>26</td><td nowrap>1</td><td nowrap>0.8802</td></tr><tr><td nowrap>26</td><td nowrap>entropy</td><td nowrap>16</td><td nowrap>1</td><td nowrap>0.8798</td></tr><tr><td nowrap>21</td><td nowrap>entropy</td><td nowrap>21</td><td nowrap>1</td><td nowrap>0.8794</td></tr><tr><td nowrap>21</td><td nowrap>entropy</td><td nowrap>26</td><td nowrap>6</td><td nowrap>0.8793</td></tr><tr><td nowrap>21</td><td nowrap>entropy</td><td nowrap>16</td><td nowrap>1</td><td nowrap>0.8789</td></tr><tr><td nowrap>21</td><td nowrap>entropy</td><td nowrap>21</td><td nowrap>6</td><td nowrap>0.878</td></tr><tr><td nowrap>16</td><td nowrap>entropy</td><td nowrap>26</td><td nowrap>1</td><td nowrap>0.8776</td></tr><tr><td nowrap>26</td><td nowrap>entropy</td><td nowrap>16</td><td nowrap>6</td><td nowrap>0.8759</td></tr><tr><td nowrap>26</td><td nowrap>entropy</td><td nowrap>21</td><td nowrap>6</td><td nowrap>0.8756</td></tr><tr><td nowrap>26</td><td nowrap>entropy</td><td nowrap>26</td><td nowrap>6</td><td nowrap>0.8756</td></tr><tr><td nowrap>26</td><td nowrap>entropy</td><td nowrap>11</td><td nowrap>1</td><td nowrap>0.8748</td></tr><tr><td nowrap>16</td><td nowrap>entropy</td><td nowrap>21</td><td nowrap>1</td><td nowrap>0.8743</td></tr><tr><td nowrap>21</td><td nowrap>entropy</td><td nowrap>11</td><td nowrap>1</td><td nowrap>0.874</td></tr></table>"
       ],
       "metadata": {},
       "output_type": "pyout",
       "prompt_number": 189,
       "text": [
        "<IPython.core.display.HTML at 0x10bb9ab50>"
       ]
      }
     ],
     "prompt_number": 189
    },
    {
     "cell_type": "code",
     "collapsed": false,
     "input": [
      "clf_rf = RandomForestClassifier(n_estimators=rf_scores[0][0], criterion=rf_scores[0][1],\n",
      "                             max_features=rf_scores[0][2], bootstrap=True, n_jobs=-1,\n",
      "                             min_samples_split=rf_scores[0][3])\n",
      "clf_rf.fit(X_train_scaled, Y_train)\n",
      "score = clf_rf.score(X_validation_scaled, Y_validation)\n",
      "\n",
      "rf_predictions = clf_rf.predict(X_test_scaled) "
     ],
     "language": "python",
     "metadata": {},
     "outputs": [],
     "prompt_number": 191
    },
    {
     "cell_type": "code",
     "collapsed": false,
     "input": [
      "write_predictions('solutions_rf.csv', rf_predictions)"
     ],
     "language": "python",
     "metadata": {},
     "outputs": [
      {
       "output_type": "stream",
       "stream": "stdout",
       "text": [
        "solutions_rf.csv\n"
       ]
      }
     ],
     "prompt_number": 192
    },
    {
     "cell_type": "code",
     "collapsed": false,
     "input": [
      "cm_Y_predicted = clf_rf.predict(X_validation_scaled)\n",
      "print_confusion_matrix(Y_validation, cm_Y_predicted, ['1', '2', '3', '4', '5', '6', '7'])"
     ],
     "language": "python",
     "metadata": {},
     "outputs": [
      {
       "metadata": {},
       "output_type": "display_data",
       "png": "[encoded data removed]",
       "text": [
        "<matplotlib.figure.Figure at 0x102104850>"
       ]
      }
     ],
     "prompt_number": 193
    },
    {
     "cell_type": "heading",
     "level": 2,
     "metadata": {},
     "source": [
      "After a lot of trial and error this seems to be the best of them all, I started off of the best few results in my previous set of tests."
     ]
    },
    {
     "cell_type": "code",
     "collapsed": false,
     "input": [
      "clf_rf = RandomForestClassifier(n_estimators=50, bootstrap=False, criterion='entropy',\n",
      "                                max_features=25, n_jobs=-1)\n",
      "clf_rf.fit(X_train_scaled, Y_train)\n",
      "score = clf_rf.score(X_validation_scaled, Y_validation)\n",
      "\n",
      "print score\n",
      "\n",
      "rf_predictions = clf_rf.predict(X_test_scaled)"
     ],
     "language": "python",
     "metadata": {},
     "outputs": [],
     "prompt_number": "*"
    },
    {
     "cell_type": "code",
     "collapsed": false,
     "input": [
      "write_predictions('best_solutions.csv', rf_predictions)"
     ],
     "language": "python",
     "metadata": {},
     "outputs": [
      {
       "output_type": "stream",
       "stream": "stdout",
       "text": [
        "best_solutions.csv\n"
       ]
      }
     ],
     "prompt_number": 177
    },
    {
     "cell_type": "code",
     "collapsed": false,
     "input": [
      "cm_Y_predicted = clf_rf.predict(X_validation_scaled)\n",
      "print_confusion_matrix(Y_validation, cm_Y_predicted, ['1', '2', '3', '4', '5', '6', '7'])"
     ],
     "language": "python",
     "metadata": {},
     "outputs": [
      {
       "metadata": {},
       "output_type": "display_data",
       "png": "[encoded data removed]",
       "text": [
        "<matplotlib.figure.Figure at 0x102195b90>"
       ]
      }
     ],
     "prompt_number": 176
    },
    {
     "cell_type": "heading",
     "level": 1,
     "metadata": {},
     "source": [
      "Na\u00efve Bayes"
     ]
    },
    {
     "cell_type": "markdown",
     "metadata": {},
     "source": [
      "This method doesn't work very well, not at all"
     ]
    },
    {
     "cell_type": "code",
     "collapsed": false,
     "input": [
      "clf_nb = GaussianNB()\n",
      "clf_nb.fit(X_train_scaled, Y_train)\n",
      "\n",
      "print clf_nb.score(X_validation_scaled, Y_validation)\n",
      "\n",
      "nb_predictions = clf_nb.predict(X_test_scaled)"
     ],
     "language": "python",
     "metadata": {},
     "outputs": [
      {
       "output_type": "stream",
       "stream": "stdout",
       "text": [
        "0.0863\n"
       ]
      }
     ],
     "prompt_number": 182
    },
    {
     "cell_type": "code",
     "collapsed": false,
     "input": [
      "write_predictions('solutions_nb.csv', nb_predictions)"
     ],
     "language": "python",
     "metadata": {},
     "outputs": [
      {
       "output_type": "stream",
       "stream": "stdout",
       "text": [
        "solutions_nb.csv\n"
       ]
      }
     ],
     "prompt_number": 183
    },
    {
     "cell_type": "code",
     "collapsed": false,
     "input": [
      "cm_Y_predicted = clf_nb.predict(X_validation_scaled)\n",
      "print_confusion_matrix(Y_validation, cm_Y_predicted, ['1', '2', '3', '4', '5', '6', '7'])"
     ],
     "language": "python",
     "metadata": {},
     "outputs": [
      {
       "metadata": {},
       "output_type": "display_data",
       "png": "[encoded data removed]",
       "text": [
        "<matplotlib.figure.Figure at 0x102172110>"
       ]
      }
     ],
     "prompt_number": 184
    }
   ],
   "metadata": {}
  }
 ]
}