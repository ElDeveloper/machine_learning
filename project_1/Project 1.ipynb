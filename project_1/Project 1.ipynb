{
 "metadata": {
  "name": ""
 },
 "nbformat": 3,
 "nbformat_minor": 0,
 "worksheets": [
  {
   "cells": [
    {
     "cell_type": "code",
     "collapsed": false,
     "input": [
      "!wc -l *.csv"
     ],
     "language": "python",
     "metadata": {},
     "outputs": [
      {
       "output_type": "stream",
       "stream": "stdout",
       "text": [
        "  100000 forest_test.csv\r\n",
        "   40000 forest_train.csv\r\n",
        "   10000 forest_validation.csv\r\n",
        "  100001 solutions_100.000000.csv\r\n"
       ]
      },
      {
       "output_type": "stream",
       "stream": "stdout",
       "text": [
        "  100001 solutions_140.000000.csv\r\n",
        "  100001 solutions_340.000000.csv\r\n",
        "  100001 solutions_341.000000.csv\r\n",
        "  550004 total\r\n"
       ]
      }
     ],
     "prompt_number": 2
    },
    {
     "cell_type": "code",
     "collapsed": false,
     "input": [
      "!head -n 5 forest_test.csv"
     ],
     "language": "python",
     "metadata": {},
     "outputs": [
      {
       "output_type": "stream",
       "stream": "stdout",
       "text": [
        "2966,308,16,283,55,1873,176,229,193,949,0,0,0,0,0,0,0,0,0,0,0,0,0,0,0,0,0,0,0,0,0,0,0,0,0,0,0,0,0,1,0,0,0,0,0,0,0,0,0,0\r\n",
        "2756,190,10,85,10,2758,220,248,161,2003,0,0,0,0,0,0,0,0,0,0,0,1,0,0,0,0,0,0,0,0,0,0,0,0,0,0,0,0,0,0,0,0,0,0,0,0,0,0,0,0\r\n",
        "3054,284,11,607,63,5822,190,240,190,5167,0,0,0,0,0,0,0,0,0,0,0,0,0,0,0,0,0,0,0,0,0,0,0,0,0,0,0,0,1,0,0,0,0,0,0,0,0,0,0,0\r\n",
        "2668,6,9,576,33,600,210,223,151,1834,0,0,0,0,0,0,0,0,0,0,0,0,0,0,0,0,0,0,0,0,0,0,0,0,0,0,0,0,1,0,0,0,0,0,0,0,0,0,0,0\r\n",
        "2817,70,6,450,82,1786,227,228,135,2713,0,0,0,0,0,0,0,0,0,0,0,0,0,0,0,0,0,0,0,0,0,0,1,0,0,0,0,0,0,0,0,0,0,0,0,0,0,0,0,0\r\n"
       ]
      }
     ],
     "prompt_number": 3
    },
    {
     "cell_type": "code",
     "collapsed": false,
     "input": [
      "from sys import argv\n",
      "\n",
      "from numpy import genfromtxt, array\n",
      "\n",
      "from sklearn.svm import SVC\n",
      "from sklearn.preprocessing import StandardScaler"
     ],
     "language": "python",
     "metadata": {},
     "outputs": [],
     "prompt_number": 4
    },
    {
     "cell_type": "code",
     "collapsed": false,
     "input": [
      "C = 100\n",
      "gamma = 30"
     ],
     "language": "python",
     "metadata": {},
     "outputs": [],
     "prompt_number": 5
    },
    {
     "cell_type": "code",
     "collapsed": false,
     "input": [
      "X_test = genfromtxt('forest_test.csv', delimiter=',')\n",
      "train_data = genfromtxt('forest_train.csv', delimiter=',')\n",
      "validation_data = genfromtxt('forest_validation.csv', delimiter=',')\n",
      "\n",
      "print 'Test %s;Training %s; Validation %s' % (X_test.shape, train_data.shape, \n",
      "                                              validation_data.shape)\n",
      "\n",
      "\n",
      "Y_train = train_data[:, -1]\n",
      "X_train = train_data[:, :-1]\n",
      "\n",
      "Y_validation = validation_data[:, -1]\n",
      "X_validation = validation_data[:, :-1]\n",
      "\n",
      "print 'X_train=%s,Y_train=%s; X_validation=%s,Y_validation=%s' % (\n",
      "    X_train.shape, Y_train.shape, X_validation.shape, Y_validation.shape)\n",
      "\n",
      "\n",
      "scaler = StandardScaler()\n",
      "scaler.fit(X_train)\n",
      "\n",
      "# scale the features\n",
      "X_train_scaled = array(scaler.transform(X_train), dtype=float)\n",
      "X_validation_scaled = array(scaler.transform(X_validation), dtype=float)\n",
      "\n",
      "X_test_scaled = scaler.transform(X_test)"
     ],
     "language": "python",
     "metadata": {},
     "outputs": [
      {
       "output_type": "stream",
       "stream": "stdout",
       "text": [
        "Test (100000, 50);Training (40000, 51); Validation (10000, 51)\n",
        "X_train=(40000, 50),Y_train=(40000,); X_validation=(10000, 50),Y_validation=(10000,)"
       ]
      },
      {
       "output_type": "stream",
       "stream": "stdout",
       "text": [
        "\n"
       ]
      }
     ],
     "prompt_number": 7
    },
    {
     "cell_type": "code",
     "collapsed": false,
     "input": [
      "clf = SVC(C=C, cache_size=30000, class_weight=None, coef0=0.0, degree=3,\n",
      "          gamma=gamma, kernel='rbf', max_iter=-1, probability=False,\n",
      "          random_state=None, shrinking=True, tol=0.001, verbose=False)\n",
      "clf.fit(X_train_scaled, Y_train) \n",
      "\n",
      "# score of the model\n",
      "score = clf.score(X_validation_scaled, Y_validation)\n",
      "\n",
      "# let's keep track of the parameters we are using\n",
      "fd = open('results.txt','a')\n",
      "fd.write('The score is %f, C=%f, gamma=%f\\n' % (score, C, gamma))\n",
      "fd.close()\n",
      "\n",
      "# predict on the validation dataset\n",
      "predictions = clf.predict(X_test_scaled)\n",
      "\n",
      "# writting out the solutions file\n",
      "fd = open('solutions_%f_%f.csv' % (C,gamma), 'w')\n",
      "fd.write('Id,Prediction\\n')\n",
      "for index, prediction in enumerate(predictions):\n",
      "    # add one to the index because identifieres in kaggle start at 1\n",
      "    fd.write('%d,%d\\n' % (index+1, prediction))\n",
      "fd.close()"
     ],
     "language": "python",
     "metadata": {},
     "outputs": [],
     "prompt_number": "*"
    }
   ],
   "metadata": {}
  }
 ]
}